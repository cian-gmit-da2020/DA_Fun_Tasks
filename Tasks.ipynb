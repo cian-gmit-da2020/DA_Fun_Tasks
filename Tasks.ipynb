{
 "cells": [
  {
   "cell_type": "markdown",
   "metadata": {},
   "source": [
    "# Counts.py\n",
    "Task: write a function that takes a list and returns a dictionary where the list items are dict keys and the value is how often the item appears in the list"
   ]
  },
  {
   "cell_type": "code",
   "execution_count": 25,
   "metadata": {},
   "outputs": [],
   "source": [
    "def counts(list, dict=\"dict\"):\n",
    "    dict = {}\n",
    "    \n",
    "    for i in list:\n",
    "        try:\n",
    "            if i in dict:\n",
    "                dict[i] += 1\n",
    "            else:\n",
    "                dict[i] = 1  \n",
    "        except TypeError:\n",
    "            i_type = str(type(i))\n",
    "            print(f\"We had trouble counting {i} because it was a {i_type}\")\n",
    "            \n",
    "    print(dict)"
   ]
  },
  {
   "cell_type": "code",
   "execution_count": 26,
   "metadata": {},
   "outputs": [
    {
     "name": "stdout",
     "output_type": "stream",
     "text": [
      "{'m': 2, 'a': 4, 'r': 1, 'y': 1, ' ': 4, 'h': 1, 'd': 1, 'l': 3, 'i': 1, 't': 2, 'e': 1, 'b': 1}\n"
     ]
    }
   ],
   "source": [
    "counts(\"mary had a little lamb\")"
   ]
  },
  {
   "cell_type": "code",
   "execution_count": 27,
   "metadata": {},
   "outputs": [
    {
     "name": "stdout",
     "output_type": "stream",
     "text": [
      "We had trouble counting ['no', 'yes'] because it was a <class 'list'>\n",
      "We had trouble counting {'m': 2, 'a': 4, 'r': 1, 'y': 1, ' ': 4, 'h': 1, 'd': 1, 'l': 3, 'i': 1, 't': 2, 'e': 1, 'b': 1} because it was a <class 'dict'>\n",
      "{1: 2, 'yes': 1, 'yes, no': 1, 2: 1, 3: 1, 4: 1}\n"
     ]
    }
   ],
   "source": [
    "counts([1, \"yes\", (\"yes, no\"), [\"no\", \"yes\"], {'m': 2, 'a': 4, 'r': 1, 'y': 1, ' ': 4, 'h': 1, 'd': 1, 'l': 3, 'i': 1, 't': 2, 'e': 1, 'b': 1}, 1, 2, 3, 4])"
   ]
  },
  {
   "cell_type": "code",
   "execution_count": null,
   "metadata": {},
   "outputs": [],
   "source": []
  },
  {
   "cell_type": "code",
   "execution_count": null,
   "metadata": {},
   "outputs": [],
   "source": []
  }
 ],
 "metadata": {
  "kernelspec": {
   "display_name": "Python 3",
   "language": "python",
   "name": "python3"
  },
  "language_info": {
   "codemirror_mode": {
    "name": "ipython",
    "version": 3
   },
   "file_extension": ".py",
   "mimetype": "text/x-python",
   "name": "python",
   "nbconvert_exporter": "python",
   "pygments_lexer": "ipython3",
   "version": "3.8.3"
  }
 },
 "nbformat": 4,
 "nbformat_minor": 4
}
