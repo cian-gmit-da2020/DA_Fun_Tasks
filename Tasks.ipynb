{
 "cells": [
  {
   "cell_type": "markdown",
   "metadata": {},
   "source": [
    "# Counts.py\n",
    "Task: write a function that takes a list and returns a dictionary where the list items are dict keys and the value is how often the item appears in the list"
   ]
  },
  {
   "cell_type": "markdown",
   "metadata": {},
   "source": [
    "The below function, <b>counts()</b>, takes an input of a list <b>(ls)</b> and returns a single output of a dictionary <b>(dict)</b>. The function checks each item in the list and if the item is not already in the dcitionary adds it as a key with a value of 1. If the same item apprears in list more than once then the value is incremented by 1 each time it appears."
   ]
  },
  {
   "cell_type": "markdown",
   "metadata": {},
   "source": [
    "There are two optional parameters for counts(), <b>case and stringAll</b>. \n",
    "\n",
    "If stringAll is set to <i>True</i> each item is converted to a string before it is checked. This allows for more accurate counting of numbers if there is a mix of data types in the list. \n",
    "\n",
    "If case is set to <i>True</i> each item in the list is set to lowercase before it is checked to see if it is in the dictionary. This allows letters to be counted together regardless of whether they are lower or uppercase. "
   ]
  },
  {
   "cell_type": "code",
   "execution_count": 43,
   "metadata": {},
   "outputs": [],
   "source": [
    "def counts(ls: list, case=False, stringAll=False) -> dict:\n",
    "    dict = {} # creates an empty dictionary\n",
    "    \n",
    "    for i in ls: # loop through each item in list\n",
    "        \n",
    "        if stringAll == True:\n",
    "            i = str(i)\n",
    "        if case == True and type(i) == str:\n",
    "            i = i.lower()\n",
    "        \n",
    "        try:\n",
    "            if i in dict:\n",
    "                \n",
    "                # if the item is already in list increase its value by 1\n",
    "                dict[i] += 1\n",
    "                \n",
    "                # otherwise add the item to the dict setting it's value to 1\n",
    "            else:\n",
    "                dict[i] = 1  \n",
    "                \n",
    "                # exception handling for type errors\n",
    "        except TypeError: \n",
    "            i_type = str(type(i))\n",
    "            print(f\"We had trouble counting {i} because it was a {i_type}\")\n",
    "            \n",
    "    return dict"
   ]
  },
  {
   "cell_type": "markdown",
   "metadata": {},
   "source": [
    "<p>The below examples shows how the counts function can be used on characters in a string.\n",
    "<p>It also how the case parameter is used to remove case sensitivity."
   ]
  },
  {
   "cell_type": "code",
   "execution_count": 38,
   "metadata": {},
   "outputs": [
    {
     "name": "stdout",
     "output_type": "stream",
     "text": [
      "{'M': 1, 'A': 2, 'r': 1, 'y': 1, ' ': 4, 'h': 1, 'd': 1, 'a': 2, 'l': 2, 'i': 1, 't': 2, 'e': 1, 'L': 1, 'm': 1, 'b': 1}\n",
      "{'m': 2, 'a': 4, 'r': 1, 'y': 1, ' ': 4, 'h': 1, 'd': 1, 'l': 3, 'i': 1, 't': 2, 'e': 1, 'b': 1}\n"
     ]
    }
   ],
   "source": [
    "x = counts(\"MAry hAd a little Lamb\")\n",
    "y = counts(\"MAry hAd a little Lamb\", case=True)\n",
    "print(x)\n",
    "print(y)"
   ]
  },
  {
   "cell_type": "markdown",
   "metadata": {},
   "source": [
    "<p>The below examples show how the counts function can be used on a list of strings and numbers.\n",
    "<p>It also shows how the stringAll parameter is used to convert each item to the string data type and how that may be useful for formatted numbers."
   ]
  },
  {
   "cell_type": "code",
   "execution_count": 44,
   "metadata": {},
   "outputs": [
    {
     "name": "stdout",
     "output_type": "stream",
     "text": [
      "{1: 1, 2: 1, '1': 2, '2': 1, 6: 1, 7: 1, 8: 1, '3': 1, '4': 1}\n",
      "{'1': 3, '2': 2, '6': 1, '7': 1, '8': 1, '3': 1, '4': 1}\n"
     ]
    }
   ],
   "source": [
    "a = counts([1, 2, \"1\", \"2\", 6, 7, 8, \"3\", \"4\", \"1\"])\n",
    "b = counts([1, 2, \"1\", \"2\", 6, 7, 8, \"3\", \"4\", \"1\"], stringAll=True)\n",
    "print(a)\n",
    "print(b)"
   ]
  },
  {
   "cell_type": "code",
   "execution_count": 35,
   "metadata": {},
   "outputs": [
    {
     "name": "stdout",
     "output_type": "stream",
     "text": [
      "We had trouble counting ['no', 'yes'] because it was a <class 'list'>\n",
      "We had trouble counting {'m': 2, 'a': 4, 'r': 1, 'y': 1, ' ': 4, 'h': 1, 'd': 1, 'l': 3, 'i': 1, 't': 2, 'e': 1, 'b': 1} because it was a <class 'dict'>\n",
      "{1: 2, 'yes': 1, ('yes', 'no'): 1, 2: 1, 3: 1, 4: 1}\n"
     ]
    }
   ],
   "source": [
    "Z = counts([1, \"yes\", (\"yes\", \"no\"), [\"no\", \"yes\"], {'m': 2, 'a': 4, 'r': 1, 'y': 1, ' ': 4, 'h': 1, 'd': 1, 'l': 3, 'i': 1, 't': 2, 'e': 1, 'b': 1}, 1, 2, 3, 4])\n",
    "print(Z)"
   ]
  },
  {
   "cell_type": "code",
   "execution_count": null,
   "metadata": {},
   "outputs": [],
   "source": []
  },
  {
   "cell_type": "code",
   "execution_count": null,
   "metadata": {},
   "outputs": [],
   "source": []
  },
  {
   "cell_type": "markdown",
   "metadata": {},
   "source": [
    "# References"
   ]
  },
  {
   "cell_type": "code",
   "execution_count": null,
   "metadata": {},
   "outputs": [],
   "source": [
    "\n",
    "\n",
    "\n",
    "\n",
    "\n",
    "\n",
    "\n",
    "\n",
    "\n",
    "\n",
    "\n",
    "\n",
    "\n",
    "\n",
    "\n",
    "\n",
    "\n"
   ]
  }
 ],
 "metadata": {
  "kernelspec": {
   "display_name": "Python 3",
   "language": "python",
   "name": "python3"
  },
  "language_info": {
   "codemirror_mode": {
    "name": "ipython",
    "version": 3
   },
   "file_extension": ".py",
   "mimetype": "text/x-python",
   "name": "python",
   "nbconvert_exporter": "python",
   "pygments_lexer": "ipython3",
   "version": "3.8.3"
  }
 },
 "nbformat": 4,
 "nbformat_minor": 4
}
