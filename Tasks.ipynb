{
 "cells": [
  {
   "cell_type": "markdown",
   "metadata": {},
   "source": [
    " <img style=\"float: left;\" src=\"https://i.redd.it/ar1f8fux9kp51.png\" width=300 alt=\"\" />"
   ]
  },
  {
   "cell_type": "markdown",
   "metadata": {},
   "source": [
    "# Counts.py\n",
    "\n",
    "### Task: write a function that takes a list and returns a dictionary where the list items are dict keys and the value is how often the item appears in the list"
   ]
  },
  {
   "cell_type": "markdown",
   "metadata": {},
   "source": [
    "The below function, <b>counts()</b>, takes an input of a list <b>(ls)</b> and returns a single output of a dictionary <b>(dict)</b>. The function checks each item in the list and if the item is not already in the dcitionary adds it as a key with a value of 1. If the same item apprears in list more than once then the value is incremented by 1 each time it appears."
   ]
  },
  {
   "cell_type": "markdown",
   "metadata": {},
   "source": [
    "There are two optional parameters for counts(), <b>case</b> and <b>stringAll</b>. \n",
    "\n",
    "If stringAll is set to <b>True</b> each item is converted to a string before it is checked. This allows for more accurate counting of numbers if there is a mix of data types in the list. \n",
    "\n",
    "If case is set to <b>True</b> each item in the list is set to lowercase before it is checked to see if it is in the dictionary. This allows letters to be counted together regardless of whether they are lower or uppercase. "
   ]
  },
  {
   "cell_type": "code",
   "execution_count": 15,
   "metadata": {},
   "outputs": [],
   "source": [
    "def counts(ls: list, case=False, stringAll=False) -> dict:\n",
    "    dict = {} # creates an empty dictionary\n",
    "    \n",
    "    try:\n",
    "        for i in ls: # loop through each item in list   \n",
    "\n",
    "            if stringAll == True:\n",
    "                i = str(i)\n",
    "            if case == True and type(i) == str:\n",
    "                i = i.lower()\n",
    "\n",
    "            try:\n",
    "                if i in dict:\n",
    "\n",
    "                    # if the item is already in list increase its value by 1\n",
    "                    dict[i] += 1\n",
    "\n",
    "                    # otherwise add the item to the dict setting it's value to 1\n",
    "                else:\n",
    "                    dict[i] = 1  \n",
    "\n",
    "                    # exception handling for type errors\n",
    "            except TypeError: \n",
    "                i_type = str(type(i))\n",
    "                print(f\"We had trouble counting {i} because it was a {i_type}\")\n",
    "                \n",
    "        return dict\n",
    "        \n",
    "    except TypeError: # exception handling for non-iterable arguments\n",
    "            \n",
    "        print(f\"Error: invalid argument {str(type(ls))}\")\n",
    "        print(\"counts() function takes a list or string as argument\")\n"
   ]
  },
  {
   "cell_type": "markdown",
   "metadata": {},
   "source": [
    "The below example shows how the counts function can be used on characters in a string."
   ]
  },
  {
   "cell_type": "code",
   "execution_count": 2,
   "metadata": {
    "scrolled": true
   },
   "outputs": [
    {
     "name": "stdout",
     "output_type": "stream",
     "text": [
      "{'M': 1, 'A': 2, 'r': 1, 'y': 1, ' ': 4, 'h': 1, 'd': 1, 'a': 2, 'l': 2, 'i': 1, 't': 2, 'e': 1, 'L': 1, 'm': 1, 'b': 1}\n"
     ]
    }
   ],
   "source": [
    "x = counts(\"MAry hAd a little Lamb\")\n",
    "\n",
    "print(x)"
   ]
  },
  {
   "cell_type": "markdown",
   "metadata": {},
   "source": [
    "<p>In the below example we convert all values to lowercase by setting the case variable to <b>True</b>.\n",
    "<p>In the output we can see that now M & m are included as a single key, as are A & a and L & l."
   ]
  },
  {
   "cell_type": "code",
   "execution_count": 3,
   "metadata": {},
   "outputs": [
    {
     "name": "stdout",
     "output_type": "stream",
     "text": [
      "{'m': 2, 'a': 4, 'r': 1, 'y': 1, ' ': 4, 'h': 1, 'd': 1, 'l': 3, 'i': 1, 't': 2, 'e': 1, 'b': 1}\n"
     ]
    }
   ],
   "source": [
    "y = counts(\"MAry hAd a little Lamb\", case=True)\n",
    "\n",
    "print(y)"
   ]
  },
  {
   "cell_type": "markdown",
   "metadata": {},
   "source": [
    "<p>The below examples show how the counts function works on list of strings and numbers."
   ]
  },
  {
   "cell_type": "code",
   "execution_count": 4,
   "metadata": {},
   "outputs": [
    {
     "name": "stdout",
     "output_type": "stream",
     "text": [
      "{1: 1, 2: 1, '1': 2, '2': 1, 6: 1, 7: 1, 8: 1, '3': 1, '4': 1}\n"
     ]
    }
   ],
   "source": [
    "a = counts([1, 2, \"1\", \"2\", 6, 7, 8, \"3\", \"4\", \"1\"])\n",
    "\n",
    "print(a)"
   ]
  },
  {
   "cell_type": "markdown",
   "metadata": {},
   "source": [
    "<p>Below we set the stringAll parameter to <b>True</b> convert each item to the string data type.\n",
    "<p>The output below shows that integer and string values for numerical entries are counted as a single string value."
   ]
  },
  {
   "cell_type": "code",
   "execution_count": 5,
   "metadata": {},
   "outputs": [
    {
     "name": "stdout",
     "output_type": "stream",
     "text": [
      "{'1': 3, '2': 2, '6': 1, '7': 1, '8': 1, '3': 1, '4': 1}\n"
     ]
    }
   ],
   "source": [
    "b = counts([1, 2, \"1\", \"2\", 6, 7, 8, \"3\", \"4\", \"1\"], stringAll=True)\n",
    "\n",
    "print(b)"
   ]
  },
  {
   "cell_type": "markdown",
   "metadata": {},
   "source": [
    "The below example shows how the counts function operates when the list contains items that cannot be counted such as lists and dictionaries. The items are not counted but a message is printed to the user to give them more information."
   ]
  },
  {
   "cell_type": "code",
   "execution_count": 9,
   "metadata": {
    "scrolled": false
   },
   "outputs": [
    {
     "name": "stdout",
     "output_type": "stream",
     "text": [
      "We had trouble counting ['no', 'yes'] because it was a <class 'list'>\n",
      "We had trouble counting {'m': 2, 'a': 4, 'r': 1, 'y': 1, ' ': 4, 'h': 1, 'd': 1, 'l': 3, 'i': 1, 't': 2, 'e': 1, 'b': 1} because it was a <class 'dict'>\n",
      "{1: 2, 'yes': 1, ('yes', 'no'): 1, 2: 1, 3: 1, 4: 1}\n"
     ]
    }
   ],
   "source": [
    "Z = counts([1, \"yes\", (\"yes\", \"no\"), [\"no\", \"yes\"], \n",
    "            {'m': 2, 'a': 4, 'r': 1, 'y': 1, ' ': 4, 'h': 1, 'd': 1, 'l': 3, 'i': 1, 't': 2, 'e': 1, 'b': 1},\n",
    "            1, 2, 3, 4])\n",
    "print(Z)"
   ]
  },
  {
   "cell_type": "markdown",
   "metadata": {},
   "source": [
    "The final example here demostrates how the function handles argument that cannot be iterated over such as an int"
   ]
  },
  {
   "cell_type": "code",
   "execution_count": 16,
   "metadata": {},
   "outputs": [
    {
     "name": "stdout",
     "output_type": "stream",
     "text": [
      "Error: invalid argument <class 'int'>\n",
      "counts() function takes a list or string as argument\n"
     ]
    }
   ],
   "source": [
    "counts(1235)"
   ]
  },
  {
   "cell_type": "code",
   "execution_count": null,
   "metadata": {},
   "outputs": [],
   "source": []
  },
  {
   "cell_type": "markdown",
   "metadata": {},
   "source": [
    "# References"
   ]
  },
  {
   "cell_type": "code",
   "execution_count": null,
   "metadata": {},
   "outputs": [],
   "source": [
    "\n",
    "\n",
    "\n",
    "\n",
    "\n",
    "\n",
    "\n",
    "\n",
    "\n",
    "\n",
    "\n",
    "\n",
    "\n",
    "\n",
    "\n",
    "\n",
    "\n"
   ]
  }
 ],
 "metadata": {
  "kernelspec": {
   "display_name": "Python 3",
   "language": "python",
   "name": "python3"
  },
  "language_info": {
   "codemirror_mode": {
    "name": "ipython",
    "version": 3
   },
   "file_extension": ".py",
   "mimetype": "text/x-python",
   "name": "python",
   "nbconvert_exporter": "python",
   "pygments_lexer": "ipython3",
   "version": "3.8.3"
  }
 },
 "nbformat": 4,
 "nbformat_minor": 4
}
